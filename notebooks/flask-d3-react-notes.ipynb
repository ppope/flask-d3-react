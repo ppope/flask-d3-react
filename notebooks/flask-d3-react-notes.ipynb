{
 "cells": [
  {
   "cell_type": "markdown",
   "metadata": {},
   "source": [
    "TODO\n",
    "* Work in gulp?\n",
    "* Destroy code might help make network switching lag less.\n",
    "\n",
    "8/17/2015 5:30 PM\n",
    "\n",
    "Notes\n",
    "* Could not pass down data to `Chart` component using `d3.json`.\n",
    "* Made a dropdown button to handle switching between graphs.\n",
    "* Checkout [bootstrap modals](http://www.w3schools.com/bootstrap/bootstrap_modal.asp) for popup windows"
   ]
  }
 ],
 "metadata": {
  "kernelspec": {
   "display_name": "Python 3",
   "language": "python",
   "name": "python3"
  },
  "language_info": {
   "codemirror_mode": {
    "name": "ipython",
    "version": 3
   },
   "file_extension": ".py",
   "mimetype": "text/x-python",
   "name": "python",
   "nbconvert_exporter": "python",
   "pygments_lexer": "ipython3",
   "version": "3.4.3"
  }
 },
 "nbformat": 4,
 "nbformat_minor": 0
}
